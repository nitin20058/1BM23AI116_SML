{
 "cells": [
  {
   "cell_type": "code",
   "execution_count": 2,
   "id": "b30c384f",
   "metadata": {},
   "outputs": [
    {
     "name": "stdout",
     "output_type": "stream",
     "text": [
      "\n",
      "Stochastic Gradient Descent:\n",
      "Intercept: 2102.0415, Slope: -24.5425\n"
     ]
    }
   ],
   "source": [
    "import numpy as np\n",
    "import pandas as pd\n",
    "import statsmodels.api as sm\n",
    "\n",
    "data = {\n",
    "    \"shear\": [2160.70, 1680.15, 2318.00, 2063.30, 2209.30, 2209.50, 1710.30, 1786.70,\n",
    "              2577.90, 2359.90, 2258.70, 2167.20, 2401.55, 1781.80, 2338.75, 1767.30,\n",
    "              2055.50, 2416.40, 2202.50, 2656.20, 1755.70],\n",
    "    \"age\": [15.50, 23.75, 8.00, 17.00, 5.50, 19.00, 24.00, 2.50, 7.50, 11.00, 13.00,\n",
    "            3.75, 25.00, 9.75, 22.00, 18.00, 6.00, 12.50, 2.00, 21.50, 0.00]\n",
    "}\n",
    "\n",
    "df = pd.DataFrame(data)\n",
    "y = df['shear'].values\n",
    "X = df['age'].values\n",
    "X = sm.add_constant(X) \n",
    "\n",
    "def stochastic_gradient_descent(X, y, learning_rate=0.001, n_iterations=100000):\n",
    "    m = len(y)\n",
    "    theta = np.array([3000, -0.1]) \n",
    "\n",
    "    for iteration in range(n_iterations):\n",
    "        random_index = np.random.randint(m)\n",
    "        xi = X[random_index:random_index+1]  \n",
    "        yi = y[random_index:random_index+1]  \n",
    "        \n",
    "       \n",
    "        gradients = 2 * xi.T.dot(xi.dot(theta) - yi)\n",
    "        \n",
    "        theta -= learning_rate * gradients.flatten() \n",
    "    return theta\n",
    "\n",
    "theta_sgd = stochastic_gradient_descent(X, y)\n",
    "\n",
    "print(\"\\nStochastic Gradient Descent:\")\n",
    "print(f\"Intercept: {theta_sgd[0]:.4f}, Slope: {theta_sgd[1]:.4f}\")\n"
   ]
  },
  {
   "cell_type": "code",
   "execution_count": 3,
   "id": "e8e654ea",
   "metadata": {},
   "outputs": [
    {
     "name": "stdout",
     "output_type": "stream",
     "text": [
      "\n",
      "Stochastic Gradient Descent:\n",
      "Intercept: 2098.0086, Slope: -21.6245\n",
      "\n",
      "Scikit-learn SGDRegressor Predictions:\n",
      "[2124.28071196 2551.73599198 1735.68500285 2201.99985378 1606.15309982\n",
      " 2305.62537621 2564.68918229 1450.71481617 1709.77862225 1891.1232865\n",
      " 1994.74880893 1515.48076769 2616.5019435  1826.35733498 2461.06365986\n",
      " 2253.812615   1632.05948042 1968.84242832 1424.80843557 2435.15727925\n",
      " 1321.18291314]\n"
     ]
    }
   ],
   "source": [
    "import numpy as np\n",
    "import pandas as pd\n",
    "import statsmodels.api as sm\n",
    "from sklearn.model_selection import train_test_split\n",
    "from sklearn.linear_model import SGDRegressor\n",
    "\n",
    "# Data\n",
    "data = {\n",
    "    \"shear\": [2160.70, 1680.15, 2318.00, 2063.30, 2209.30, 2209.50, 1710.30, 1786.70,\n",
    "              2577.90, 2359.90, 2258.70, 2167.20, 2401.55, 1781.80, 2338.75, 1767.30,\n",
    "              2055.50, 2416.40, 2202.50, 2656.20, 1755.70],\n",
    "    \"age\": [15.50, 23.75, 8.00, 17.00, 5.50, 19.00, 24.00, 2.50, 7.50, 11.00, 13.00,\n",
    "            3.75, 25.00, 9.75, 22.00, 18.00, 6.00, 12.50, 2.00, 21.50, 0.00]\n",
    "}\n",
    "\n",
    "# Prepare Data\n",
    "df = pd.DataFrame(data)\n",
    "y = df['shear'].values\n",
    "X = df['age'].values\n",
    "X = sm.add_constant(X)  # Add intercept term\n",
    "\n",
    "# Custom SGD Function\n",
    "def stochastic_gradient_descent(X, y, learning_rate=0.001, n_iterations=100000):\n",
    "    m = len(y)\n",
    "    theta = np.array([3000, -0.1])  # Initial guess\n",
    "\n",
    "    for iteration in range(n_iterations):\n",
    "        random_index = np.random.randint(m)\n",
    "        xi = X[random_index:random_index+1]\n",
    "        yi = y[random_index:random_index+1]\n",
    "        gradients = 2 * xi.T.dot(xi.dot(theta) - yi)\n",
    "        theta -= learning_rate * gradients.flatten()\n",
    "    return theta\n",
    "\n",
    "theta_sgd = stochastic_gradient_descent(X, y)\n",
    "print(\"\\nStochastic Gradient Descent:\")\n",
    "print(f\"Intercept: {theta_sgd[0]:.4f}, Slope: {theta_sgd[1]:.4f}\")\n",
    "\n",
    "# Use sklearn's SGDRegressor\n",
    "X_train, X_test, y_train, y_test = train_test_split(X, y, test_size=0.2, random_state=42)\n",
    "sgd_reg = SGDRegressor(max_iter=1000, tol=1e-3)\n",
    "sgd_reg.fit(X_train, y_train)\n",
    "\n",
    "# Predictions\n",
    "y_pred = sgd_reg.predict(X)\n",
    "print(\"\\nScikit-learn SGDRegressor Predictions:\")\n",
    "print(y_pred)\n"
   ]
  },
  {
   "cell_type": "code",
   "execution_count": null,
   "id": "2391521d",
   "metadata": {},
   "outputs": [],
   "source": []
  }
 ],
 "metadata": {
  "kernelspec": {
   "display_name": "Python 3 (ipykernel)",
   "language": "python",
   "name": "python3"
  },
  "language_info": {
   "codemirror_mode": {
    "name": "ipython",
    "version": 3
   },
   "file_extension": ".py",
   "mimetype": "text/x-python",
   "name": "python",
   "nbconvert_exporter": "python",
   "pygments_lexer": "ipython3",
   "version": "3.11.3"
  }
 },
 "nbformat": 4,
 "nbformat_minor": 5
}
